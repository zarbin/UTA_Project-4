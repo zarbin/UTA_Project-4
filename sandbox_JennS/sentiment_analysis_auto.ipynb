{
 "cells": [
  {
   "cell_type": "code",
   "execution_count": 1,
   "metadata": {},
   "outputs": [],
   "source": [
    "import pandas as pd\n",
    "from langdetect import detect\n",
    "import re"
   ]
  },
  {
   "cell_type": "code",
   "execution_count": 2,
   "metadata": {},
   "outputs": [],
   "source": [
    "import nltk\n",
    "\n",
    "# Download the lexicon\n",
    "#nltk.download(\"vader_lexicon\")\n",
    "\n",
    "# Import the lexicon \n",
    "from nltk.sentiment.vader import SentimentIntensityAnalyzer\n",
    "\n",
    "# SentimentIntensityAnalyzer.polarity_score()function provides the polarity of the text rendering the dictionary format\n",
    "# of 4 keys neg, neu, pos and compound\n",
    "# neg, neu, and pos should add to 1\n",
    "# Compound is overall and is between -1 and 1\n",
    "# Create an instance of SentimentIntensityAnalyzer\n",
    "sent_analyzer = SentimentIntensityAnalyzer()"
   ]
  },
  {
   "cell_type": "markdown",
   "metadata": {},
   "source": [
    "# Extract Data"
   ]
  },
  {
   "cell_type": "code",
   "execution_count": 3,
   "metadata": {},
   "outputs": [],
   "source": [
    "# Read in doge coin news and market data\n",
    "doge_df = pd.read_csv(\"../../CryptoNews/doge.csv\")"
   ]
  },
  {
   "cell_type": "markdown",
   "metadata": {},
   "source": [
    "# Transform the Data"
   ]
  },
  {
   "cell_type": "markdown",
   "metadata": {},
   "source": [
    "## Functions to Transform Data"
   ]
  },
  {
   "cell_type": "code",
   "execution_count": 4,
   "metadata": {},
   "outputs": [],
   "source": [
    "# Function to remove unwanted characters and to split the articles into lists for each date\n",
    "def clean_article_list(articles):   \n",
    "    a = articles.replace(\"\\\\n\",'')\n",
    "    return re.split(', \\W', a)"
   ]
  },
  {
   "cell_type": "markdown",
   "metadata": {},
   "source": [
    "### Cleaning Function\n",
    "Eliminate all articles not in english.\n",
    "Vader will be more accurate with separate article titles"
   ]
  },
  {
   "cell_type": "code",
   "execution_count": 6,
   "metadata": {},
   "outputs": [],
   "source": [
    "def clean_data(df):\n",
    "    # Cute df to just grab \"begins_at\" and \"articles\"\n",
    "    cut_df = df.loc[:, [\"begins_at\", \"articles\"]]\n",
    "    \n",
    "    # Replace articles columns with the cleaned lists\n",
    "    cut_df[\"articles\"] = cut_df[\"articles\"].apply(lambda x: clean_article_list(x)) \n",
    "\n",
    "    # Separate the 'articles' column so that each row has a single column\n",
    "    exploded_df = cut_df.explode(\"articles\")\n",
    "    \n",
    "    # Make a language column to detect the language of each article\n",
    "    exploded_df[\"language\"] = exploded_df[\"articles\"].apply(lambda x: detect(x))\n",
    "\n",
    "    # Make a new df where the articles are just in English\n",
    "    clean_df = exploded_df.loc[exploded_df[\"language\"]=='en',:]\n",
    "\n",
    "    return clean_df"
   ]
  },
  {
   "cell_type": "markdown",
   "metadata": {},
   "source": [
    "### Vader Function"
   ]
  },
  {
   "cell_type": "code",
   "execution_count": 10,
   "metadata": {},
   "outputs": [],
   "source": [
    "def apply_vader(df):\n",
    "    # Predict sentiment for each article\n",
    "    df[\"vader_prediction\"] = df[\"articles\"].apply(lambda text: sent_analyzer.polarity_scores(text)['compound'])\n",
    "\n",
    "    # Regroup the df by the date\n",
    "    df_over_time = df.loc[:,['begins_at','vader_prediction']].groupby('begins_at').mean()\n",
    "    return df_over_time"
   ]
  },
  {
   "cell_type": "markdown",
   "metadata": {},
   "source": [
    "### Sentiment Function"
   ]
  },
  {
   "cell_type": "code",
   "execution_count": 11,
   "metadata": {},
   "outputs": [],
   "source": [
    "# Function to gives a polarity rather than numerical output\n",
    "def format_output(prediction):\n",
    "  \n",
    "  polarity = \"neutral\"\n",
    "\n",
    "  if(prediction>= 0.05):\n",
    "    polarity = \"positive\"\n",
    "\n",
    "  elif(prediction<= -0.05):\n",
    "    polarity = \"negative\"\n",
    "\n",
    "  return polarity"
   ]
  },
  {
   "cell_type": "markdown",
   "metadata": {},
   "source": [
    "## Apply Transform Functions to Data"
   ]
  },
  {
   "cell_type": "code",
   "execution_count": 7,
   "metadata": {},
   "outputs": [
    {
     "data": {
      "text/html": [
       "<div>\n",
       "<style scoped>\n",
       "    .dataframe tbody tr th:only-of-type {\n",
       "        vertical-align: middle;\n",
       "    }\n",
       "\n",
       "    .dataframe tbody tr th {\n",
       "        vertical-align: top;\n",
       "    }\n",
       "\n",
       "    .dataframe thead th {\n",
       "        text-align: right;\n",
       "    }\n",
       "</style>\n",
       "<table border=\"1\" class=\"dataframe\">\n",
       "  <thead>\n",
       "    <tr style=\"text-align: right;\">\n",
       "      <th></th>\n",
       "      <th>begins_at</th>\n",
       "      <th>articles</th>\n",
       "      <th>language</th>\n",
       "    </tr>\n",
       "  </thead>\n",
       "  <tbody>\n",
       "    <tr>\n",
       "      <th>0</th>\n",
       "      <td>2021-01-02</td>\n",
       "      <td>['Dogecoin Spikes 120%: If History Repeats, Th...</td>\n",
       "      <td>en</td>\n",
       "    </tr>\n",
       "    <tr>\n",
       "      <th>0</th>\n",
       "      <td>2021-01-02</td>\n",
       "      <td>Dogecoin Sees 125% Increase In Trading On Satu...</td>\n",
       "      <td>en</td>\n",
       "    </tr>\n",
       "    <tr>\n",
       "      <th>0</th>\n",
       "      <td>2021-01-02</td>\n",
       "      <td>Dogecoin (DOGE) surges over 100% as Bitcoin bu...</td>\n",
       "      <td>en</td>\n",
       "    </tr>\n",
       "    <tr>\n",
       "      <th>0</th>\n",
       "      <td>2021-01-02</td>\n",
       "      <td>Ripple CTO Reveals His Crypto Holdings, XRP an...</td>\n",
       "      <td>en</td>\n",
       "    </tr>\n",
       "    <tr>\n",
       "      <th>0</th>\n",
       "      <td>2021-01-02</td>\n",
       "      <td>Here’s Why Analysts Think Ethereum Will Soon M...</td>\n",
       "      <td>en</td>\n",
       "    </tr>\n",
       "    <tr>\n",
       "      <th>...</th>\n",
       "      <td>...</td>\n",
       "      <td>...</td>\n",
       "      <td>...</td>\n",
       "    </tr>\n",
       "    <tr>\n",
       "      <th>796</th>\n",
       "      <td>2023-03-09</td>\n",
       "      <td>Why Dogecoin Is Getting Hammered By Benzinga'</td>\n",
       "      <td>en</td>\n",
       "    </tr>\n",
       "    <tr>\n",
       "      <th>796</th>\n",
       "      <td>2023-03-09</td>\n",
       "      <td>Why Dogelon Mars (ELON) Is Up 3% Today'</td>\n",
       "      <td>en</td>\n",
       "    </tr>\n",
       "    <tr>\n",
       "      <th>796</th>\n",
       "      <td>2023-03-09</td>\n",
       "      <td>The Future Of Crypto: Commit To Locking Your D...</td>\n",
       "      <td>en</td>\n",
       "    </tr>\n",
       "    <tr>\n",
       "      <th>796</th>\n",
       "      <td>2023-03-09</td>\n",
       "      <td>New Meme Crypto Big Eyes Coin Excels with its ...</td>\n",
       "      <td>en</td>\n",
       "    </tr>\n",
       "    <tr>\n",
       "      <th>796</th>\n",
       "      <td>2023-03-09</td>\n",
       "      <td>Shiba Inu (SHIB) vs Dogecoin (DOGE) - Orbeon P...</td>\n",
       "      <td>en</td>\n",
       "    </tr>\n",
       "  </tbody>\n",
       "</table>\n",
       "<p>6858 rows × 3 columns</p>\n",
       "</div>"
      ],
      "text/plain": [
       "      begins_at                                           articles language\n",
       "0    2021-01-02  ['Dogecoin Spikes 120%: If History Repeats, Th...       en\n",
       "0    2021-01-02  Dogecoin Sees 125% Increase In Trading On Satu...       en\n",
       "0    2021-01-02  Dogecoin (DOGE) surges over 100% as Bitcoin bu...       en\n",
       "0    2021-01-02  Ripple CTO Reveals His Crypto Holdings, XRP an...       en\n",
       "0    2021-01-02  Here’s Why Analysts Think Ethereum Will Soon M...       en\n",
       "..          ...                                                ...      ...\n",
       "796  2023-03-09      Why Dogecoin Is Getting Hammered By Benzinga'       en\n",
       "796  2023-03-09            Why Dogelon Mars (ELON) Is Up 3% Today'       en\n",
       "796  2023-03-09  The Future Of Crypto: Commit To Locking Your D...       en\n",
       "796  2023-03-09  New Meme Crypto Big Eyes Coin Excels with its ...       en\n",
       "796  2023-03-09  Shiba Inu (SHIB) vs Dogecoin (DOGE) - Orbeon P...       en\n",
       "\n",
       "[6858 rows x 3 columns]"
      ]
     },
     "execution_count": 7,
     "metadata": {},
     "output_type": "execute_result"
    }
   ],
   "source": [
    "# Clean the data via the clean function \n",
    "doge_clean = clean_data(doge_df)\n",
    "doge_clean"
   ]
  },
  {
   "cell_type": "code",
   "execution_count": 12,
   "metadata": {},
   "outputs": [
    {
     "data": {
      "text/html": [
       "<div>\n",
       "<style scoped>\n",
       "    .dataframe tbody tr th:only-of-type {\n",
       "        vertical-align: middle;\n",
       "    }\n",
       "\n",
       "    .dataframe tbody tr th {\n",
       "        vertical-align: top;\n",
       "    }\n",
       "\n",
       "    .dataframe thead th {\n",
       "        text-align: right;\n",
       "    }\n",
       "</style>\n",
       "<table border=\"1\" class=\"dataframe\">\n",
       "  <thead>\n",
       "    <tr style=\"text-align: right;\">\n",
       "      <th></th>\n",
       "      <th>vader_prediction</th>\n",
       "    </tr>\n",
       "    <tr>\n",
       "      <th>begins_at</th>\n",
       "      <th></th>\n",
       "    </tr>\n",
       "  </thead>\n",
       "  <tbody>\n",
       "    <tr>\n",
       "      <th>2021-01-02</th>\n",
       "      <td>0.183320</td>\n",
       "    </tr>\n",
       "    <tr>\n",
       "      <th>2021-01-03</th>\n",
       "      <td>0.007371</td>\n",
       "    </tr>\n",
       "    <tr>\n",
       "      <th>2021-01-04</th>\n",
       "      <td>0.011000</td>\n",
       "    </tr>\n",
       "    <tr>\n",
       "      <th>2021-01-05</th>\n",
       "      <td>0.183663</td>\n",
       "    </tr>\n",
       "    <tr>\n",
       "      <th>2021-01-06</th>\n",
       "      <td>0.200137</td>\n",
       "    </tr>\n",
       "    <tr>\n",
       "      <th>...</th>\n",
       "      <td>...</td>\n",
       "    </tr>\n",
       "    <tr>\n",
       "      <th>2023-03-05</th>\n",
       "      <td>0.082570</td>\n",
       "    </tr>\n",
       "    <tr>\n",
       "      <th>2023-03-06</th>\n",
       "      <td>0.104460</td>\n",
       "    </tr>\n",
       "    <tr>\n",
       "      <th>2023-03-07</th>\n",
       "      <td>0.056780</td>\n",
       "    </tr>\n",
       "    <tr>\n",
       "      <th>2023-03-08</th>\n",
       "      <td>-0.074480</td>\n",
       "    </tr>\n",
       "    <tr>\n",
       "      <th>2023-03-09</th>\n",
       "      <td>-0.020810</td>\n",
       "    </tr>\n",
       "  </tbody>\n",
       "</table>\n",
       "<p>796 rows × 1 columns</p>\n",
       "</div>"
      ],
      "text/plain": [
       "            vader_prediction\n",
       "begins_at                   \n",
       "2021-01-02          0.183320\n",
       "2021-01-03          0.007371\n",
       "2021-01-04          0.011000\n",
       "2021-01-05          0.183663\n",
       "2021-01-06          0.200137\n",
       "...                      ...\n",
       "2023-03-05          0.082570\n",
       "2023-03-06          0.104460\n",
       "2023-03-07          0.056780\n",
       "2023-03-08         -0.074480\n",
       "2023-03-09         -0.020810\n",
       "\n",
       "[796 rows x 1 columns]"
      ]
     },
     "execution_count": 12,
     "metadata": {},
     "output_type": "execute_result"
    }
   ],
   "source": [
    "# Apply vader function\n",
    "doge_vader = apply_vader(doge_clean)\n",
    "doge_vader"
   ]
  },
  {
   "cell_type": "code",
   "execution_count": 13,
   "metadata": {},
   "outputs": [
    {
     "data": {
      "text/html": [
       "<div>\n",
       "<style scoped>\n",
       "    .dataframe tbody tr th:only-of-type {\n",
       "        vertical-align: middle;\n",
       "    }\n",
       "\n",
       "    .dataframe tbody tr th {\n",
       "        vertical-align: top;\n",
       "    }\n",
       "\n",
       "    .dataframe thead th {\n",
       "        text-align: right;\n",
       "    }\n",
       "</style>\n",
       "<table border=\"1\" class=\"dataframe\">\n",
       "  <thead>\n",
       "    <tr style=\"text-align: right;\">\n",
       "      <th></th>\n",
       "      <th>vader_prediction</th>\n",
       "      <th>sentiment</th>\n",
       "    </tr>\n",
       "    <tr>\n",
       "      <th>begins_at</th>\n",
       "      <th></th>\n",
       "      <th></th>\n",
       "    </tr>\n",
       "  </thead>\n",
       "  <tbody>\n",
       "    <tr>\n",
       "      <th>2021-01-02</th>\n",
       "      <td>0.183320</td>\n",
       "      <td>positive</td>\n",
       "    </tr>\n",
       "    <tr>\n",
       "      <th>2021-01-03</th>\n",
       "      <td>0.007371</td>\n",
       "      <td>neutral</td>\n",
       "    </tr>\n",
       "    <tr>\n",
       "      <th>2021-01-04</th>\n",
       "      <td>0.011000</td>\n",
       "      <td>neutral</td>\n",
       "    </tr>\n",
       "    <tr>\n",
       "      <th>2021-01-05</th>\n",
       "      <td>0.183663</td>\n",
       "      <td>positive</td>\n",
       "    </tr>\n",
       "    <tr>\n",
       "      <th>2021-01-06</th>\n",
       "      <td>0.200137</td>\n",
       "      <td>positive</td>\n",
       "    </tr>\n",
       "    <tr>\n",
       "      <th>...</th>\n",
       "      <td>...</td>\n",
       "      <td>...</td>\n",
       "    </tr>\n",
       "    <tr>\n",
       "      <th>2023-03-05</th>\n",
       "      <td>0.082570</td>\n",
       "      <td>positive</td>\n",
       "    </tr>\n",
       "    <tr>\n",
       "      <th>2023-03-06</th>\n",
       "      <td>0.104460</td>\n",
       "      <td>positive</td>\n",
       "    </tr>\n",
       "    <tr>\n",
       "      <th>2023-03-07</th>\n",
       "      <td>0.056780</td>\n",
       "      <td>positive</td>\n",
       "    </tr>\n",
       "    <tr>\n",
       "      <th>2023-03-08</th>\n",
       "      <td>-0.074480</td>\n",
       "      <td>negative</td>\n",
       "    </tr>\n",
       "    <tr>\n",
       "      <th>2023-03-09</th>\n",
       "      <td>-0.020810</td>\n",
       "      <td>neutral</td>\n",
       "    </tr>\n",
       "  </tbody>\n",
       "</table>\n",
       "<p>796 rows × 2 columns</p>\n",
       "</div>"
      ],
      "text/plain": [
       "            vader_prediction sentiment\n",
       "begins_at                             \n",
       "2021-01-02          0.183320  positive\n",
       "2021-01-03          0.007371   neutral\n",
       "2021-01-04          0.011000   neutral\n",
       "2021-01-05          0.183663  positive\n",
       "2021-01-06          0.200137  positive\n",
       "...                      ...       ...\n",
       "2023-03-05          0.082570  positive\n",
       "2023-03-06          0.104460  positive\n",
       "2023-03-07          0.056780  positive\n",
       "2023-03-08         -0.074480  negative\n",
       "2023-03-09         -0.020810   neutral\n",
       "\n",
       "[796 rows x 2 columns]"
      ]
     },
     "execution_count": 13,
     "metadata": {},
     "output_type": "execute_result"
    }
   ],
   "source": [
    "# Apply format function to get polarity\n",
    "doge_vader[\"sentiment\"] = doge_vader[\"vader_prediction\"].apply(lambda x: format_output(x))\n",
    "doge_vader"
   ]
  },
  {
   "cell_type": "markdown",
   "metadata": {},
   "source": [
    "# Load Data"
   ]
  },
  {
   "cell_type": "code",
   "execution_count": null,
   "metadata": {},
   "outputs": [],
   "source": []
  }
 ],
 "metadata": {
  "kernelspec": {
   "display_name": "Python 3.9.12 ('base')",
   "language": "python",
   "name": "python3"
  },
  "language_info": {
   "codemirror_mode": {
    "name": "ipython",
    "version": 3
   },
   "file_extension": ".py",
   "mimetype": "text/x-python",
   "name": "python",
   "nbconvert_exporter": "python",
   "pygments_lexer": "ipython3",
   "version": "3.9.12"
  },
  "orig_nbformat": 4,
  "vscode": {
   "interpreter": {
    "hash": "8ca3c2b93fec3a68989a8a35ad4ad37f554c7436255229aa8dbd97e50d16e03f"
   }
  }
 },
 "nbformat": 4,
 "nbformat_minor": 2
}
