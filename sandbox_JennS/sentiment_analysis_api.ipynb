{
 "cells": [
  {
   "cell_type": "code",
   "execution_count": null,
   "metadata": {},
   "outputs": [],
   "source": [
    "import pandas as pd"
   ]
  },
  {
   "cell_type": "code",
   "execution_count": 6,
   "metadata": {},
   "outputs": [],
   "source": [
    "from newsapi import NewsApiClient\n",
    "import config"
   ]
  },
  {
   "cell_type": "code",
   "execution_count": 8,
   "metadata": {},
   "outputs": [],
   "source": [
    "# Create a newsapi client\n",
    "newsapi = NewsApiClient(api_key=config.my_api_key)\n",
    "\n",
    "# Fetch all the news about crypto"
   ]
  },
  {
   "cell_type": "code",
   "execution_count": 9,
   "metadata": {},
   "outputs": [
    {
     "ename": "NewsAPIException",
     "evalue": "{'status': 'error', 'code': 'parameterInvalid', 'message': 'You are trying to request results too far in the past. Your plan permits you to request articles as far back as 2023-03-06, but you have requested 2020-01-01. You may need to upgrade to a paid plan.'}",
     "output_type": "error",
     "traceback": [
      "\u001b[0;31m---------------------------------------------------------------------------\u001b[0m",
      "\u001b[0;31mNewsAPIException\u001b[0m                          Traceback (most recent call last)",
      "\u001b[1;32m/Users/jennifershulyak/Desktop/Data_Bootcamp_2022/project_4/UTA_Project-4/sandbox_JennS/sentiment_analysis_api.ipynb Cell 4\u001b[0m in \u001b[0;36m<cell line: 5>\u001b[0;34m()\u001b[0m\n\u001b[1;32m      <a href='vscode-notebook-cell:/Users/jennifershulyak/Desktop/Data_Bootcamp_2022/project_4/UTA_Project-4/sandbox_JennS/sentiment_analysis_api.ipynb#W3sZmlsZQ%3D%3D?line=1'>2</a>\u001b[0m topics \u001b[39m=\u001b[39m \u001b[39m'\u001b[39m\u001b[39mcrypto OR bitcoin OR doge\u001b[39m\u001b[39m'\u001b[39m\n\u001b[1;32m      <a href='vscode-notebook-cell:/Users/jennifershulyak/Desktop/Data_Bootcamp_2022/project_4/UTA_Project-4/sandbox_JennS/sentiment_analysis_api.ipynb#W3sZmlsZQ%3D%3D?line=3'>4</a>\u001b[0m \u001b[39m# Grab Articles\u001b[39;00m\n\u001b[0;32m----> <a href='vscode-notebook-cell:/Users/jennifershulyak/Desktop/Data_Bootcamp_2022/project_4/UTA_Project-4/sandbox_JennS/sentiment_analysis_api.ipynb#W3sZmlsZQ%3D%3D?line=4'>5</a>\u001b[0m all_articles \u001b[39m=\u001b[39m newsapi\u001b[39m.\u001b[39;49mget_everything(q\u001b[39m=\u001b[39;49m\u001b[39m'\u001b[39;49m\u001b[39mcrypto OR bitcoin OR doge\u001b[39;49m\u001b[39m'\u001b[39;49m,\n\u001b[1;32m      <a href='vscode-notebook-cell:/Users/jennifershulyak/Desktop/Data_Bootcamp_2022/project_4/UTA_Project-4/sandbox_JennS/sentiment_analysis_api.ipynb#W3sZmlsZQ%3D%3D?line=5'>6</a>\u001b[0m                                       from_param\u001b[39m=\u001b[39;49m\u001b[39m\"\u001b[39;49m\u001b[39m2020-01-01\u001b[39;49m\u001b[39m\"\u001b[39;49m,\n\u001b[1;32m      <a href='vscode-notebook-cell:/Users/jennifershulyak/Desktop/Data_Bootcamp_2022/project_4/UTA_Project-4/sandbox_JennS/sentiment_analysis_api.ipynb#W3sZmlsZQ%3D%3D?line=6'>7</a>\u001b[0m                                       language\u001b[39m=\u001b[39;49m\u001b[39m\"\u001b[39;49m\u001b[39men\u001b[39;49m\u001b[39m\"\u001b[39;49m)\n",
      "File \u001b[0;32m~/opt/anaconda3/lib/python3.9/site-packages/newsapi/newsapi_client.py:334\u001b[0m, in \u001b[0;36mNewsApiClient.get_everything\u001b[0;34m(self, q, qintitle, sources, domains, exclude_domains, from_param, to, language, sort_by, page, page_size)\u001b[0m\n\u001b[1;32m    332\u001b[0m \u001b[39m# Check Status of Request\u001b[39;00m\n\u001b[1;32m    333\u001b[0m \u001b[39mif\u001b[39;00m r\u001b[39m.\u001b[39mstatus_code \u001b[39m!=\u001b[39m requests\u001b[39m.\u001b[39mcodes\u001b[39m.\u001b[39mok:\n\u001b[0;32m--> 334\u001b[0m     \u001b[39mraise\u001b[39;00m NewsAPIException(r\u001b[39m.\u001b[39mjson())\n\u001b[1;32m    336\u001b[0m \u001b[39mreturn\u001b[39;00m r\u001b[39m.\u001b[39mjson()\n",
      "\u001b[0;31mNewsAPIException\u001b[0m: {'status': 'error', 'code': 'parameterInvalid', 'message': 'You are trying to request results too far in the past. Your plan permits you to request articles as far back as 2023-03-06, but you have requested 2020-01-01. You may need to upgrade to a paid plan.'}"
     ]
    }
   ],
   "source": [
    "start_date = \"2020-01-01\"\n",
    "topics = 'crypto OR bitcoin OR doge'\n",
    "\n",
    "# Grab Articles\n",
    "all_articles = newsapi.get_everything(q='crypto OR bitcoin OR doge',\n",
    "                                      from_param=\"2020-01-01\",\n",
    "                                      language=\"en\")"
   ]
  },
  {
   "cell_type": "code",
   "execution_count": null,
   "metadata": {},
   "outputs": [],
   "source": [
    "# Print number of results\n",
    "print(f\"Total Number of Crypto Articles: {all_articles['totalResults']}\")"
   ]
  }
 ],
 "metadata": {
  "kernelspec": {
   "display_name": "Python 3.9.12 ('base')",
   "language": "python",
   "name": "python3"
  },
  "language_info": {
   "codemirror_mode": {
    "name": "ipython",
    "version": 3
   },
   "file_extension": ".py",
   "mimetype": "text/x-python",
   "name": "python",
   "nbconvert_exporter": "python",
   "pygments_lexer": "ipython3",
   "version": "3.9.12"
  },
  "orig_nbformat": 4,
  "vscode": {
   "interpreter": {
    "hash": "8ca3c2b93fec3a68989a8a35ad4ad37f554c7436255229aa8dbd97e50d16e03f"
   }
  }
 },
 "nbformat": 4,
 "nbformat_minor": 2
}
