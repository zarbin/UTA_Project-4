{
 "cells": [
  {
   "cell_type": "code",
   "execution_count": 1,
   "metadata": {},
   "outputs": [],
   "source": [
    "import pandas as pd"
   ]
  },
  {
   "cell_type": "markdown",
   "metadata": {},
   "source": [
    "# Extact Data"
   ]
  },
  {
   "cell_type": "code",
   "execution_count": 14,
   "metadata": {},
   "outputs": [
    {
     "data": {
      "text/html": [
       "<div>\n",
       "<style scoped>\n",
       "    .dataframe tbody tr th:only-of-type {\n",
       "        vertical-align: middle;\n",
       "    }\n",
       "\n",
       "    .dataframe tbody tr th {\n",
       "        vertical-align: top;\n",
       "    }\n",
       "\n",
       "    .dataframe thead th {\n",
       "        text-align: right;\n",
       "    }\n",
       "</style>\n",
       "<table border=\"1\" class=\"dataframe\">\n",
       "  <thead>\n",
       "    <tr style=\"text-align: right;\">\n",
       "      <th></th>\n",
       "      <th>Unnamed: 0</th>\n",
       "      <th>begins_at</th>\n",
       "      <th>open_price</th>\n",
       "      <th>close_price</th>\n",
       "      <th>high_price</th>\n",
       "      <th>low_price</th>\n",
       "      <th>symbol</th>\n",
       "      <th>articles</th>\n",
       "    </tr>\n",
       "  </thead>\n",
       "  <tbody>\n",
       "    <tr>\n",
       "      <th>0</th>\n",
       "      <td>1029</td>\n",
       "      <td>2021-01-02</td>\n",
       "      <td>0.005797</td>\n",
       "      <td>0.010714</td>\n",
       "      <td>0.014833</td>\n",
       "      <td>0.005468</td>\n",
       "      <td>DOGE</td>\n",
       "      <td>['Dogecoin Spikes 120%: If History Repeats, This Might be Very Positive for \\nAll Altcoins', \"Dogecoin Sees 125% Increase In Trading On Saturday Following Adult Film \\nStar's Tweet\", 'Dogecoin (DO...</td>\n",
       "    </tr>\n",
       "    <tr>\n",
       "      <th>1</th>\n",
       "      <td>1030</td>\n",
       "      <td>2021-01-03</td>\n",
       "      <td>0.010714</td>\n",
       "      <td>0.009979</td>\n",
       "      <td>0.014000</td>\n",
       "      <td>0.009017</td>\n",
       "      <td>DOGE</td>\n",
       "      <td>['Adult Film Star Angela White Tweets About Dogecoin, Price ...', \"Can't Keep a Good Dog Down: Meme Token Dogecoin Spiked ...\", 'DOGE’s Gone Wild! Meme Coin Soars After Adult Star Says She’s a HOD...</td>\n",
       "    </tr>\n",
       "    <tr>\n",
       "      <th>2</th>\n",
       "      <td>1031</td>\n",
       "      <td>2021-01-04</td>\n",
       "      <td>0.009938</td>\n",
       "      <td>0.009798</td>\n",
       "      <td>0.011767</td>\n",
       "      <td>0.007359</td>\n",
       "      <td>DOGE</td>\n",
       "      <td>['Dogecoin (DOGE) mit Kurssprung von über 100 Prozent ...', 'What Will U.S. Dollar Ring In For 2021?', \"Why There Is Literally No 'Cash On The Sidelines'\", 'Comment faire du staking Ethereum ETH 2...</td>\n",
       "    </tr>\n",
       "    <tr>\n",
       "      <th>3</th>\n",
       "      <td>1032</td>\n",
       "      <td>2021-01-05</td>\n",
       "      <td>0.009798</td>\n",
       "      <td>0.010004</td>\n",
       "      <td>0.010439</td>\n",
       "      <td>0.008798</td>\n",
       "      <td>DOGE</td>\n",
       "      <td>['What to Expect from DevOps in 2021 and Beyond?', 'Amazon Partners with Ripple Customer dLocal to Expand Its Card Payments \\nService', 'Data Shows Institutions are Buying Bitcoin Above $30,000 De...</td>\n",
       "    </tr>\n",
       "    <tr>\n",
       "      <th>4</th>\n",
       "      <td>1033</td>\n",
       "      <td>2021-01-06</td>\n",
       "      <td>0.010004</td>\n",
       "      <td>0.010501</td>\n",
       "      <td>0.011105</td>\n",
       "      <td>0.009496</td>\n",
       "      <td>DOGE</td>\n",
       "      <td>['Gold vs Bitcoin: complete comparison at the start of 2021', 'Leading Design Agency Koto Is Giving Polkadot a Rebrand', 'Popular Crypto Trader Says This Little-Known DeFi ...', \"Ripple: XRP's uti...</td>\n",
       "    </tr>\n",
       "  </tbody>\n",
       "</table>\n",
       "</div>"
      ],
      "text/plain": [
       "   Unnamed: 0   begins_at  open_price  close_price  high_price  low_price  \\\n",
       "0        1029  2021-01-02    0.005797     0.010714    0.014833   0.005468   \n",
       "1        1030  2021-01-03    0.010714     0.009979    0.014000   0.009017   \n",
       "2        1031  2021-01-04    0.009938     0.009798    0.011767   0.007359   \n",
       "3        1032  2021-01-05    0.009798     0.010004    0.010439   0.008798   \n",
       "4        1033  2021-01-06    0.010004     0.010501    0.011105   0.009496   \n",
       "\n",
       "  symbol  \\\n",
       "0   DOGE   \n",
       "1   DOGE   \n",
       "2   DOGE   \n",
       "3   DOGE   \n",
       "4   DOGE   \n",
       "\n",
       "                                                                                                                                                                                                  articles  \n",
       "0  ['Dogecoin Spikes 120%: If History Repeats, This Might be Very Positive for \\nAll Altcoins', \"Dogecoin Sees 125% Increase In Trading On Saturday Following Adult Film \\nStar's Tweet\", 'Dogecoin (DO...  \n",
       "1  ['Adult Film Star Angela White Tweets About Dogecoin, Price ...', \"Can't Keep a Good Dog Down: Meme Token Dogecoin Spiked ...\", 'DOGE’s Gone Wild! Meme Coin Soars After Adult Star Says She’s a HOD...  \n",
       "2  ['Dogecoin (DOGE) mit Kurssprung von über 100 Prozent ...', 'What Will U.S. Dollar Ring In For 2021?', \"Why There Is Literally No 'Cash On The Sidelines'\", 'Comment faire du staking Ethereum ETH 2...  \n",
       "3  ['What to Expect from DevOps in 2021 and Beyond?', 'Amazon Partners with Ripple Customer dLocal to Expand Its Card Payments \\nService', 'Data Shows Institutions are Buying Bitcoin Above $30,000 De...  \n",
       "4  ['Gold vs Bitcoin: complete comparison at the start of 2021', 'Leading Design Agency Koto Is Giving Polkadot a Rebrand', 'Popular Crypto Trader Says This Little-Known DeFi ...', \"Ripple: XRP's uti...  "
      ]
     },
     "execution_count": 14,
     "metadata": {},
     "output_type": "execute_result"
    }
   ],
   "source": [
    "# Read in doge coin news and market data\n",
    "doge_df = pd.read_csv(\"../../CryptoNews/doge.csv\")\n",
    "doge_df.head()"
   ]
  },
  {
   "cell_type": "code",
   "execution_count": 16,
   "metadata": {},
   "outputs": [
    {
     "data": {
      "text/plain": [
       "'2023-03-09'"
      ]
     },
     "execution_count": 16,
     "metadata": {},
     "output_type": "execute_result"
    }
   ],
   "source": [
    "# Last day in df\n",
    "doge_df[\"begins_at\"][len(doge_df)-1]"
   ]
  },
  {
   "cell_type": "code",
   "execution_count": 59,
   "metadata": {},
   "outputs": [
    {
     "data": {
      "text/html": [
       "<div>\n",
       "<style scoped>\n",
       "    .dataframe tbody tr th:only-of-type {\n",
       "        vertical-align: middle;\n",
       "    }\n",
       "\n",
       "    .dataframe tbody tr th {\n",
       "        vertical-align: top;\n",
       "    }\n",
       "\n",
       "    .dataframe thead th {\n",
       "        text-align: right;\n",
       "    }\n",
       "</style>\n",
       "<table border=\"1\" class=\"dataframe\">\n",
       "  <thead>\n",
       "    <tr style=\"text-align: right;\">\n",
       "      <th></th>\n",
       "      <th>begins_at</th>\n",
       "      <th>articles</th>\n",
       "    </tr>\n",
       "  </thead>\n",
       "  <tbody>\n",
       "    <tr>\n",
       "      <th>0</th>\n",
       "      <td>2021-01-02</td>\n",
       "      <td>['Dogecoin Spikes 120%: If History Repeats, This Might be Very Positive for \\nAll Altcoins', \"Dogecoin Sees 125% Increase In Trading On Saturday Following Adult Film \\nStar's Tweet\", 'Dogecoin (DO...</td>\n",
       "    </tr>\n",
       "    <tr>\n",
       "      <th>1</th>\n",
       "      <td>2021-01-03</td>\n",
       "      <td>['Adult Film Star Angela White Tweets About Dogecoin, Price ...', \"Can't Keep a Good Dog Down: Meme Token Dogecoin Spiked ...\", 'DOGE’s Gone Wild! Meme Coin Soars After Adult Star Says She’s a HOD...</td>\n",
       "    </tr>\n",
       "    <tr>\n",
       "      <th>2</th>\n",
       "      <td>2021-01-04</td>\n",
       "      <td>['Dogecoin (DOGE) mit Kurssprung von über 100 Prozent ...', 'What Will U.S. Dollar Ring In For 2021?', \"Why There Is Literally No 'Cash On The Sidelines'\", 'Comment faire du staking Ethereum ETH 2...</td>\n",
       "    </tr>\n",
       "    <tr>\n",
       "      <th>3</th>\n",
       "      <td>2021-01-05</td>\n",
       "      <td>['What to Expect from DevOps in 2021 and Beyond?', 'Amazon Partners with Ripple Customer dLocal to Expand Its Card Payments \\nService', 'Data Shows Institutions are Buying Bitcoin Above $30,000 De...</td>\n",
       "    </tr>\n",
       "    <tr>\n",
       "      <th>4</th>\n",
       "      <td>2021-01-06</td>\n",
       "      <td>['Gold vs Bitcoin: complete comparison at the start of 2021', 'Leading Design Agency Koto Is Giving Polkadot a Rebrand', 'Popular Crypto Trader Says This Little-Known DeFi ...', \"Ripple: XRP's uti...</td>\n",
       "    </tr>\n",
       "  </tbody>\n",
       "</table>\n",
       "</div>"
      ],
      "text/plain": [
       "    begins_at  \\\n",
       "0  2021-01-02   \n",
       "1  2021-01-03   \n",
       "2  2021-01-04   \n",
       "3  2021-01-05   \n",
       "4  2021-01-06   \n",
       "\n",
       "                                                                                                                                                                                                  articles  \n",
       "0  ['Dogecoin Spikes 120%: If History Repeats, This Might be Very Positive for \\nAll Altcoins', \"Dogecoin Sees 125% Increase In Trading On Saturday Following Adult Film \\nStar's Tweet\", 'Dogecoin (DO...  \n",
       "1  ['Adult Film Star Angela White Tweets About Dogecoin, Price ...', \"Can't Keep a Good Dog Down: Meme Token Dogecoin Spiked ...\", 'DOGE’s Gone Wild! Meme Coin Soars After Adult Star Says She’s a HOD...  \n",
       "2  ['Dogecoin (DOGE) mit Kurssprung von über 100 Prozent ...', 'What Will U.S. Dollar Ring In For 2021?', \"Why There Is Literally No 'Cash On The Sidelines'\", 'Comment faire du staking Ethereum ETH 2...  \n",
       "3  ['What to Expect from DevOps in 2021 and Beyond?', 'Amazon Partners with Ripple Customer dLocal to Expand Its Card Payments \\nService', 'Data Shows Institutions are Buying Bitcoin Above $30,000 De...  \n",
       "4  ['Gold vs Bitcoin: complete comparison at the start of 2021', 'Leading Design Agency Koto Is Giving Polkadot a Rebrand', 'Popular Crypto Trader Says This Little-Known DeFi ...', \"Ripple: XRP's uti...  "
      ]
     },
     "execution_count": 59,
     "metadata": {},
     "output_type": "execute_result"
    }
   ],
   "source": [
    "doge_cut_df = doge_df.loc[:, [\"begins_at\", \"articles\"]]\n",
    "doge_cut_df.head()"
   ]
  },
  {
   "cell_type": "code",
   "execution_count": 45,
   "metadata": {},
   "outputs": [
    {
     "data": {
      "text/plain": [
       "str"
      ]
     },
     "execution_count": 45,
     "metadata": {},
     "output_type": "execute_result"
    }
   ],
   "source": [
    "type(doge_cut_df[\"articles\"][0])"
   ]
  },
  {
   "cell_type": "code",
   "execution_count": 58,
   "metadata": {},
   "outputs": [],
   "source": [
    "import re\n",
    "re.sub(doge_cut_df[\"articles\"][0])"
   ]
  },
  {
   "cell_type": "code",
   "execution_count": 61,
   "metadata": {},
   "outputs": [
    {
     "data": {
      "text/plain": [
       "'[\\'Dogecoin Spikes 120%: If History Repeats, This Might be Very Positive for All Altcoins\\', \"Dogecoin Sees 125% Increase In Trading On Saturday Following Adult Film Star\\'s Tweet\", \\'Dogecoin (DOGE) surges over 100% as Bitcoin bull run takes BTC to $33,000\\', \\'Ripple CTO Reveals His Crypto Holdings, XRP and Bitcoin Are His Biggest Positions\\', \\'Here’s Why Analysts Think Ethereum Will Soon Move Toward $800\\', \\'Anche nel 2021 sarà importante monitorare i 15 indirizzi Bitcoin più ricchi\\', \\'Ripples XRP: Jetzt spricht der Gründer bereits vom „nächsten ...\\', \\'10 เหรียญ Cryptocurrency ที่น่าจับตามองอย่างยิ่งตลอดปี 2021 นี้ ...\\']'"
      ]
     },
     "execution_count": 61,
     "metadata": {},
     "output_type": "execute_result"
    }
   ],
   "source": [
    "# What do the articles look like? OMG they are not all in English\n",
    "doge_cut_df[\"articles\"][0].replace(\"\\\\n\",'').replace(\"\\\\\",\"\")"
   ]
  },
  {
   "cell_type": "code",
   "execution_count": 55,
   "metadata": {},
   "outputs": [],
   "source": [
    "def clean_article_list(articles):\n",
    "    return articles.replace(\"\\\\n\",'')"
   ]
  },
  {
   "cell_type": "code",
   "execution_count": 28,
   "metadata": {},
   "outputs": [
    {
     "data": {
      "text/html": [
       "<div>\n",
       "<style scoped>\n",
       "    .dataframe tbody tr th:only-of-type {\n",
       "        vertical-align: middle;\n",
       "    }\n",
       "\n",
       "    .dataframe tbody tr th {\n",
       "        vertical-align: top;\n",
       "    }\n",
       "\n",
       "    .dataframe thead th {\n",
       "        text-align: right;\n",
       "    }\n",
       "</style>\n",
       "<table border=\"1\" class=\"dataframe\">\n",
       "  <thead>\n",
       "    <tr style=\"text-align: right;\">\n",
       "      <th></th>\n",
       "      <th>begins_at</th>\n",
       "      <th>articles</th>\n",
       "    </tr>\n",
       "  </thead>\n",
       "  <tbody>\n",
       "    <tr>\n",
       "      <th>0</th>\n",
       "      <td>2021-01-02</td>\n",
       "      <td>[['Dogecoin Spikes 120%: If History Repeats, This Might be Very Positive for All Altcoins', \"Dogecoin Sees 125% Increase In Trading On Saturday Following Adult Film Star's Tweet\", 'Dogecoin (DOGE)...</td>\n",
       "    </tr>\n",
       "    <tr>\n",
       "      <th>1</th>\n",
       "      <td>2021-01-03</td>\n",
       "      <td>[['Adult Film Star Angela White Tweets About Dogecoin, Price ...', \"Can't Keep a Good Dog Down: Meme Token Dogecoin Spiked ...\", 'DOGE’s Gone Wild! Meme Coin Soars After Adult Star Says She’s a HO...</td>\n",
       "    </tr>\n",
       "    <tr>\n",
       "      <th>2</th>\n",
       "      <td>2021-01-04</td>\n",
       "      <td>[['Dogecoin (DOGE) mit Kurssprung von über 100 Prozent ...', 'What Will U.S. Dollar Ring In For 2021?', \"Why There Is Literally No 'Cash On The Sidelines'\", 'Comment faire du staking Ethereum ETH ...</td>\n",
       "    </tr>\n",
       "    <tr>\n",
       "      <th>3</th>\n",
       "      <td>2021-01-05</td>\n",
       "      <td>[['What to Expect from DevOps in 2021 and Beyond?', 'Amazon Partners with Ripple Customer dLocal to Expand Its Card Payments Service', 'Data Shows Institutions are Buying Bitcoin Above $30,000 Des...</td>\n",
       "    </tr>\n",
       "    <tr>\n",
       "      <th>4</th>\n",
       "      <td>2021-01-06</td>\n",
       "      <td>[['Gold vs Bitcoin: complete comparison at the start of 2021', 'Leading Design Agency Koto Is Giving Polkadot a Rebrand', 'Popular Crypto Trader Says This Little-Known DeFi ...', \"Ripple: XRP's ut...</td>\n",
       "    </tr>\n",
       "  </tbody>\n",
       "</table>\n",
       "</div>"
      ],
      "text/plain": [
       "    begins_at  \\\n",
       "0  2021-01-02   \n",
       "1  2021-01-03   \n",
       "2  2021-01-04   \n",
       "3  2021-01-05   \n",
       "4  2021-01-06   \n",
       "\n",
       "                                                                                                                                                                                                  articles  \n",
       "0  [['Dogecoin Spikes 120%: If History Repeats, This Might be Very Positive for All Altcoins', \"Dogecoin Sees 125% Increase In Trading On Saturday Following Adult Film Star's Tweet\", 'Dogecoin (DOGE)...  \n",
       "1  [['Adult Film Star Angela White Tweets About Dogecoin, Price ...', \"Can't Keep a Good Dog Down: Meme Token Dogecoin Spiked ...\", 'DOGE’s Gone Wild! Meme Coin Soars After Adult Star Says She’s a HO...  \n",
       "2  [['Dogecoin (DOGE) mit Kurssprung von über 100 Prozent ...', 'What Will U.S. Dollar Ring In For 2021?', \"Why There Is Literally No 'Cash On The Sidelines'\", 'Comment faire du staking Ethereum ETH ...  \n",
       "3  [['What to Expect from DevOps in 2021 and Beyond?', 'Amazon Partners with Ripple Customer dLocal to Expand Its Card Payments Service', 'Data Shows Institutions are Buying Bitcoin Above $30,000 Des...  \n",
       "4  [['Gold vs Bitcoin: complete comparison at the start of 2021', 'Leading Design Agency Koto Is Giving Polkadot a Rebrand', 'Popular Crypto Trader Says This Little-Known DeFi ...', \"Ripple: XRP's ut...  "
      ]
     },
     "execution_count": 28,
     "metadata": {},
     "output_type": "execute_result"
    }
   ],
   "source": [
    "doge_cut_clean_df = doge_cut_df.copy()\n",
    "doge_cut_clean_df[\"articles\"] = doge_cut_df[\"articles\"].apply(lambda x: clean_article_list(x))\n",
    "doge_cut_clean_df.head()"
   ]
  },
  {
   "cell_type": "code",
   "execution_count": 33,
   "metadata": {},
   "outputs": [
    {
     "data": {
      "text/plain": [
       "'['"
      ]
     },
     "execution_count": 33,
     "metadata": {},
     "output_type": "execute_result"
    }
   ],
   "source": [
    "line = doge_cut_clean_df[\"articles\"][0]"
   ]
  },
  {
   "cell_type": "code",
   "execution_count": 29,
   "metadata": {},
   "outputs": [
    {
     "data": {
      "text/html": [
       "<div>\n",
       "<style scoped>\n",
       "    .dataframe tbody tr th:only-of-type {\n",
       "        vertical-align: middle;\n",
       "    }\n",
       "\n",
       "    .dataframe tbody tr th {\n",
       "        vertical-align: top;\n",
       "    }\n",
       "\n",
       "    .dataframe thead th {\n",
       "        text-align: right;\n",
       "    }\n",
       "</style>\n",
       "<table border=\"1\" class=\"dataframe\">\n",
       "  <thead>\n",
       "    <tr style=\"text-align: right;\">\n",
       "      <th></th>\n",
       "      <th>begins_at</th>\n",
       "      <th>articles</th>\n",
       "    </tr>\n",
       "  </thead>\n",
       "  <tbody>\n",
       "    <tr>\n",
       "      <th>0</th>\n",
       "      <td>2021-01-02</td>\n",
       "      <td>['Dogecoin Spikes 120%: If History Repeats, This Might be Very Positive for All Altcoins', \"Dogecoin Sees 125% Increase In Trading On Saturday Following Adult Film Star's Tweet\", 'Dogecoin (DOGE) ...</td>\n",
       "    </tr>\n",
       "    <tr>\n",
       "      <th>1</th>\n",
       "      <td>2021-01-03</td>\n",
       "      <td>['Adult Film Star Angela White Tweets About Dogecoin, Price ...', \"Can't Keep a Good Dog Down: Meme Token Dogecoin Spiked ...\", 'DOGE’s Gone Wild! Meme Coin Soars After Adult Star Says She’s a HOD...</td>\n",
       "    </tr>\n",
       "    <tr>\n",
       "      <th>2</th>\n",
       "      <td>2021-01-04</td>\n",
       "      <td>['Dogecoin (DOGE) mit Kurssprung von über 100 Prozent ...', 'What Will U.S. Dollar Ring In For 2021?', \"Why There Is Literally No 'Cash On The Sidelines'\", 'Comment faire du staking Ethereum ETH 2...</td>\n",
       "    </tr>\n",
       "    <tr>\n",
       "      <th>3</th>\n",
       "      <td>2021-01-05</td>\n",
       "      <td>['What to Expect from DevOps in 2021 and Beyond?', 'Amazon Partners with Ripple Customer dLocal to Expand Its Card Payments Service', 'Data Shows Institutions are Buying Bitcoin Above $30,000 Desp...</td>\n",
       "    </tr>\n",
       "    <tr>\n",
       "      <th>4</th>\n",
       "      <td>2021-01-06</td>\n",
       "      <td>['Gold vs Bitcoin: complete comparison at the start of 2021', 'Leading Design Agency Koto Is Giving Polkadot a Rebrand', 'Popular Crypto Trader Says This Little-Known DeFi ...', \"Ripple: XRP's uti...</td>\n",
       "    </tr>\n",
       "  </tbody>\n",
       "</table>\n",
       "</div>"
      ],
      "text/plain": [
       "    begins_at  \\\n",
       "0  2021-01-02   \n",
       "1  2021-01-03   \n",
       "2  2021-01-04   \n",
       "3  2021-01-05   \n",
       "4  2021-01-06   \n",
       "\n",
       "                                                                                                                                                                                                  articles  \n",
       "0  ['Dogecoin Spikes 120%: If History Repeats, This Might be Very Positive for All Altcoins', \"Dogecoin Sees 125% Increase In Trading On Saturday Following Adult Film Star's Tweet\", 'Dogecoin (DOGE) ...  \n",
       "1  ['Adult Film Star Angela White Tweets About Dogecoin, Price ...', \"Can't Keep a Good Dog Down: Meme Token Dogecoin Spiked ...\", 'DOGE’s Gone Wild! Meme Coin Soars After Adult Star Says She’s a HOD...  \n",
       "2  ['Dogecoin (DOGE) mit Kurssprung von über 100 Prozent ...', 'What Will U.S. Dollar Ring In For 2021?', \"Why There Is Literally No 'Cash On The Sidelines'\", 'Comment faire du staking Ethereum ETH 2...  \n",
       "3  ['What to Expect from DevOps in 2021 and Beyond?', 'Amazon Partners with Ripple Customer dLocal to Expand Its Card Payments Service', 'Data Shows Institutions are Buying Bitcoin Above $30,000 Desp...  \n",
       "4  ['Gold vs Bitcoin: complete comparison at the start of 2021', 'Leading Design Agency Koto Is Giving Polkadot a Rebrand', 'Popular Crypto Trader Says This Little-Known DeFi ...', \"Ripple: XRP's uti...  "
      ]
     },
     "execution_count": 29,
     "metadata": {},
     "output_type": "execute_result"
    }
   ],
   "source": [
    "new_df = doge_cut_clean_df.explode(\"articles\")\n",
    "new_df.head()"
   ]
  },
  {
   "cell_type": "markdown",
   "metadata": {},
   "source": [
    "# Vader"
   ]
  },
  {
   "cell_type": "code",
   "execution_count": 5,
   "metadata": {},
   "outputs": [
    {
     "name": "stderr",
     "output_type": "stream",
     "text": [
      "[nltk_data] Downloading package vader_lexicon to\n",
      "[nltk_data]     /Users/jennifershulyak/nltk_data...\n",
      "[nltk_data]   Package vader_lexicon is already up-to-date!\n"
     ]
    }
   ],
   "source": [
    "import nltk\n",
    "\n",
    "# Download the lexicon\n",
    "#nltk.download(\"vader_lexicon\")\n",
    "\n",
    "# Import the lexicon \n",
    "from nltk.sentiment.vader import SentimentIntensityAnalyzer\n",
    "\n",
    "# SentimentIntensityAnalyzer.polarity_score()function provides the polarity of the text rendering the dictionary format\n",
    "# of 4 keys neg, neu, pos and compound\n",
    "# neg, neu, and pos should add to 1\n",
    "# Compound is overall and is between -1 and 1\n",
    "# Create an instance of SentimentIntensityAnalyzer\n",
    "sent_analyzer = SentimentIntensityAnalyzer()"
   ]
  },
  {
   "cell_type": "code",
   "execution_count": 6,
   "metadata": {},
   "outputs": [],
   "source": [
    "# Function to gives a polarity rather than numerical output\n",
    "def format_output(output_dict):\n",
    "  \n",
    "  polarity = \"neutral\"\n",
    "\n",
    "  if(output_dict['compound']>= 0.05):\n",
    "    polarity = \"positive\"\n",
    "\n",
    "  elif(output_dict['compound']<= -0.05):\n",
    "    polarity = \"negative\"\n",
    "\n",
    "  return polarity"
   ]
  },
  {
   "cell_type": "code",
   "execution_count": 7,
   "metadata": {},
   "outputs": [],
   "source": [
    "# Function to apply each row of the df to the sent_analyzer\n",
    "def predict_sentiment(text):\n",
    "  \n",
    "  output_dict =  sent_analyzer.polarity_scores(text)\n",
    "  return format_output(output_dict)"
   ]
  },
  {
   "cell_type": "code",
   "execution_count": 11,
   "metadata": {},
   "outputs": [
    {
     "data": {
      "text/html": [
       "<div>\n",
       "<style scoped>\n",
       "    .dataframe tbody tr th:only-of-type {\n",
       "        vertical-align: middle;\n",
       "    }\n",
       "\n",
       "    .dataframe tbody tr th {\n",
       "        vertical-align: top;\n",
       "    }\n",
       "\n",
       "    .dataframe thead th {\n",
       "        text-align: right;\n",
       "    }\n",
       "</style>\n",
       "<table border=\"1\" class=\"dataframe\">\n",
       "  <thead>\n",
       "    <tr style=\"text-align: right;\">\n",
       "      <th></th>\n",
       "      <th>begins_at</th>\n",
       "      <th>articles</th>\n",
       "      <th>vader_prediction</th>\n",
       "    </tr>\n",
       "  </thead>\n",
       "  <tbody>\n",
       "    <tr>\n",
       "      <th>0</th>\n",
       "      <td>2021-01-02</td>\n",
       "      <td>['Dogecoin Spikes 120%: If History Repeats, This Might be Very Positive for \\nAll Altcoins', \"Dogecoin Sees 125% Increase In Trading On Saturday Following Adult Film \\nStar's Tweet\", 'Dogecoin (DO...</td>\n",
       "      <td>positive</td>\n",
       "    </tr>\n",
       "    <tr>\n",
       "      <th>1</th>\n",
       "      <td>2021-01-03</td>\n",
       "      <td>['Adult Film Star Angela White Tweets About Dogecoin, Price ...', \"Can't Keep a Good Dog Down: Meme Token Dogecoin Spiked ...\", 'DOGE’s Gone Wild! Meme Coin Soars After Adult Star Says She’s a HOD...</td>\n",
       "      <td>negative</td>\n",
       "    </tr>\n",
       "    <tr>\n",
       "      <th>2</th>\n",
       "      <td>2021-01-04</td>\n",
       "      <td>['Dogecoin (DOGE) mit Kurssprung von über 100 Prozent ...', 'What Will U.S. Dollar Ring In For 2021?', \"Why There Is Literally No 'Cash On The Sidelines'\", 'Comment faire du staking Ethereum ETH 2...</td>\n",
       "      <td>negative</td>\n",
       "    </tr>\n",
       "    <tr>\n",
       "      <th>3</th>\n",
       "      <td>2021-01-05</td>\n",
       "      <td>['What to Expect from DevOps in 2021 and Beyond?', 'Amazon Partners with Ripple Customer dLocal to Expand Its Card Payments \\nService', 'Data Shows Institutions are Buying Bitcoin Above $30,000 De...</td>\n",
       "      <td>positive</td>\n",
       "    </tr>\n",
       "    <tr>\n",
       "      <th>4</th>\n",
       "      <td>2021-01-06</td>\n",
       "      <td>['Gold vs Bitcoin: complete comparison at the start of 2021', 'Leading Design Agency Koto Is Giving Polkadot a Rebrand', 'Popular Crypto Trader Says This Little-Known DeFi ...', \"Ripple: XRP's uti...</td>\n",
       "      <td>positive</td>\n",
       "    </tr>\n",
       "    <tr>\n",
       "      <th>...</th>\n",
       "      <td>...</td>\n",
       "      <td>...</td>\n",
       "      <td>...</td>\n",
       "    </tr>\n",
       "    <tr>\n",
       "      <th>792</th>\n",
       "      <td>2023-03-05</td>\n",
       "      <td>['Dogecoin (DOGE) creator speaks on not working with Elon Musk, Shiba Inu \\n(SHIB) gets listed on Japanese', 'Dogecoin Price Prediction: DOGE Whale detected, price still ...', 'Crypto Community St...</td>\n",
       "      <td>positive</td>\n",
       "    </tr>\n",
       "    <tr>\n",
       "      <th>793</th>\n",
       "      <td>2023-03-06</td>\n",
       "      <td>['$DOGE: Crypto Analytics Firm Explains Why Dogecoin Is ...', 'Dogecoin: Bull vs. Bear', \"Dogecoin And Baby Doge Give Gains, But Big Eyes Coin's ...\", 'Dogecoin Drops 10% on the Week as Elon Musk ...</td>\n",
       "      <td>positive</td>\n",
       "    </tr>\n",
       "    <tr>\n",
       "      <th>794</th>\n",
       "      <td>2023-03-07</td>\n",
       "      <td>['Dogecoin Price Prediction as DOGE Eyes Big Bearish ...', 'Dogecoin (DOGE) Price Might Have Completed Correction', 'AI predicts Dogecoin (DOGE) price for the end of 2023', 'Dogecoin (DOGE) and Re...</td>\n",
       "      <td>positive</td>\n",
       "    </tr>\n",
       "    <tr>\n",
       "      <th>795</th>\n",
       "      <td>2023-03-08</td>\n",
       "      <td>['Price analysis 3/8: BTC, ETH, BNB, XRP, ADA, DOGE, MATIC, SOL, DOT, LTC', 'Dogecoin Whales Transfer More Than $654,700,000 in DOGE in Just One Week: \\nIntoTheBlock', 'Here’s What Happened to Dog...</td>\n",
       "      <td>negative</td>\n",
       "    </tr>\n",
       "    <tr>\n",
       "      <th>796</th>\n",
       "      <td>2023-03-09</td>\n",
       "      <td>['Dogecoin Price Prediction as $400 Million Trading Volume ...', 'Dogecoin, Shiba Inu Record Double-Digit Losses Amid Market Uncertainty | \\nBitcoinist.com', 'Dogecoin price analysis: DOGE obtains...</td>\n",
       "      <td>positive</td>\n",
       "    </tr>\n",
       "  </tbody>\n",
       "</table>\n",
       "<p>797 rows × 3 columns</p>\n",
       "</div>"
      ],
      "text/plain": [
       "      begins_at  \\\n",
       "0    2021-01-02   \n",
       "1    2021-01-03   \n",
       "2    2021-01-04   \n",
       "3    2021-01-05   \n",
       "4    2021-01-06   \n",
       "..          ...   \n",
       "792  2023-03-05   \n",
       "793  2023-03-06   \n",
       "794  2023-03-07   \n",
       "795  2023-03-08   \n",
       "796  2023-03-09   \n",
       "\n",
       "                                                                                                                                                                                                    articles  \\\n",
       "0    ['Dogecoin Spikes 120%: If History Repeats, This Might be Very Positive for \\nAll Altcoins', \"Dogecoin Sees 125% Increase In Trading On Saturday Following Adult Film \\nStar's Tweet\", 'Dogecoin (DO...   \n",
       "1    ['Adult Film Star Angela White Tweets About Dogecoin, Price ...', \"Can't Keep a Good Dog Down: Meme Token Dogecoin Spiked ...\", 'DOGE’s Gone Wild! Meme Coin Soars After Adult Star Says She’s a HOD...   \n",
       "2    ['Dogecoin (DOGE) mit Kurssprung von über 100 Prozent ...', 'What Will U.S. Dollar Ring In For 2021?', \"Why There Is Literally No 'Cash On The Sidelines'\", 'Comment faire du staking Ethereum ETH 2...   \n",
       "3    ['What to Expect from DevOps in 2021 and Beyond?', 'Amazon Partners with Ripple Customer dLocal to Expand Its Card Payments \\nService', 'Data Shows Institutions are Buying Bitcoin Above $30,000 De...   \n",
       "4    ['Gold vs Bitcoin: complete comparison at the start of 2021', 'Leading Design Agency Koto Is Giving Polkadot a Rebrand', 'Popular Crypto Trader Says This Little-Known DeFi ...', \"Ripple: XRP's uti...   \n",
       "..                                                                                                                                                                                                       ...   \n",
       "792  ['Dogecoin (DOGE) creator speaks on not working with Elon Musk, Shiba Inu \\n(SHIB) gets listed on Japanese', 'Dogecoin Price Prediction: DOGE Whale detected, price still ...', 'Crypto Community St...   \n",
       "793  ['$DOGE: Crypto Analytics Firm Explains Why Dogecoin Is ...', 'Dogecoin: Bull vs. Bear', \"Dogecoin And Baby Doge Give Gains, But Big Eyes Coin's ...\", 'Dogecoin Drops 10% on the Week as Elon Musk ...   \n",
       "794  ['Dogecoin Price Prediction as DOGE Eyes Big Bearish ...', 'Dogecoin (DOGE) Price Might Have Completed Correction', 'AI predicts Dogecoin (DOGE) price for the end of 2023', 'Dogecoin (DOGE) and Re...   \n",
       "795  ['Price analysis 3/8: BTC, ETH, BNB, XRP, ADA, DOGE, MATIC, SOL, DOT, LTC', 'Dogecoin Whales Transfer More Than $654,700,000 in DOGE in Just One Week: \\nIntoTheBlock', 'Here’s What Happened to Dog...   \n",
       "796  ['Dogecoin Price Prediction as $400 Million Trading Volume ...', 'Dogecoin, Shiba Inu Record Double-Digit Losses Amid Market Uncertainty | \\nBitcoinist.com', 'Dogecoin price analysis: DOGE obtains...   \n",
       "\n",
       "    vader_prediction  \n",
       "0           positive  \n",
       "1           negative  \n",
       "2           negative  \n",
       "3           positive  \n",
       "4           positive  \n",
       "..               ...  \n",
       "792         positive  \n",
       "793         positive  \n",
       "794         positive  \n",
       "795         negative  \n",
       "796         positive  \n",
       "\n",
       "[797 rows x 3 columns]"
      ]
     },
     "execution_count": 11,
     "metadata": {},
     "output_type": "execute_result"
    }
   ],
   "source": [
    "# Run the predictions\n",
    "pd.set_option('display.max_colwidth', 200)\n",
    "doge_cut_df[\"vader_prediction\"] = doge_cut_df[\"articles\"].apply(predict_sentiment)\n",
    "doge_cut_df"
   ]
  },
  {
   "cell_type": "code",
   "execution_count": null,
   "metadata": {},
   "outputs": [],
   "source": []
  }
 ],
 "metadata": {
  "kernelspec": {
   "display_name": "Python 3.9.12 ('base')",
   "language": "python",
   "name": "python3"
  },
  "language_info": {
   "codemirror_mode": {
    "name": "ipython",
    "version": 3
   },
   "file_extension": ".py",
   "mimetype": "text/x-python",
   "name": "python",
   "nbconvert_exporter": "python",
   "pygments_lexer": "ipython3",
   "version": "3.9.12"
  },
  "orig_nbformat": 4,
  "vscode": {
   "interpreter": {
    "hash": "8ca3c2b93fec3a68989a8a35ad4ad37f554c7436255229aa8dbd97e50d16e03f"
   }
  }
 },
 "nbformat": 4,
 "nbformat_minor": 2
}
