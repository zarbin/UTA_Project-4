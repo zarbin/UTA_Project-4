{
 "cells": [
  {
   "cell_type": "code",
   "execution_count": 2,
   "metadata": {},
   "outputs": [],
   "source": [
    "import pandas as pd"
   ]
  },
  {
   "cell_type": "markdown",
   "metadata": {},
   "source": [
    "# Extact Data"
   ]
  },
  {
   "cell_type": "code",
   "execution_count": 3,
   "metadata": {},
   "outputs": [
    {
     "data": {
      "text/html": [
       "<div>\n",
       "<style scoped>\n",
       "    .dataframe tbody tr th:only-of-type {\n",
       "        vertical-align: middle;\n",
       "    }\n",
       "\n",
       "    .dataframe tbody tr th {\n",
       "        vertical-align: top;\n",
       "    }\n",
       "\n",
       "    .dataframe thead th {\n",
       "        text-align: right;\n",
       "    }\n",
       "</style>\n",
       "<table border=\"1\" class=\"dataframe\">\n",
       "  <thead>\n",
       "    <tr style=\"text-align: right;\">\n",
       "      <th></th>\n",
       "      <th>Unnamed: 0</th>\n",
       "      <th>begins_at</th>\n",
       "      <th>open_price</th>\n",
       "      <th>close_price</th>\n",
       "      <th>high_price</th>\n",
       "      <th>low_price</th>\n",
       "      <th>symbol</th>\n",
       "      <th>articles</th>\n",
       "    </tr>\n",
       "  </thead>\n",
       "  <tbody>\n",
       "    <tr>\n",
       "      <th>0</th>\n",
       "      <td>1029</td>\n",
       "      <td>2021-01-02</td>\n",
       "      <td>0.005797</td>\n",
       "      <td>0.010714</td>\n",
       "      <td>0.014833</td>\n",
       "      <td>0.005468</td>\n",
       "      <td>DOGE</td>\n",
       "      <td>['Dogecoin Spikes 120%: If History Repeats, Th...</td>\n",
       "    </tr>\n",
       "    <tr>\n",
       "      <th>1</th>\n",
       "      <td>1030</td>\n",
       "      <td>2021-01-03</td>\n",
       "      <td>0.010714</td>\n",
       "      <td>0.009979</td>\n",
       "      <td>0.014000</td>\n",
       "      <td>0.009017</td>\n",
       "      <td>DOGE</td>\n",
       "      <td>['Adult Film Star Angela White Tweets About Do...</td>\n",
       "    </tr>\n",
       "    <tr>\n",
       "      <th>2</th>\n",
       "      <td>1031</td>\n",
       "      <td>2021-01-04</td>\n",
       "      <td>0.009938</td>\n",
       "      <td>0.009798</td>\n",
       "      <td>0.011767</td>\n",
       "      <td>0.007359</td>\n",
       "      <td>DOGE</td>\n",
       "      <td>['Dogecoin (DOGE) mit Kurssprung von über 100 ...</td>\n",
       "    </tr>\n",
       "    <tr>\n",
       "      <th>3</th>\n",
       "      <td>1032</td>\n",
       "      <td>2021-01-05</td>\n",
       "      <td>0.009798</td>\n",
       "      <td>0.010004</td>\n",
       "      <td>0.010439</td>\n",
       "      <td>0.008798</td>\n",
       "      <td>DOGE</td>\n",
       "      <td>['What to Expect from DevOps in 2021 and Beyon...</td>\n",
       "    </tr>\n",
       "    <tr>\n",
       "      <th>4</th>\n",
       "      <td>1033</td>\n",
       "      <td>2021-01-06</td>\n",
       "      <td>0.010004</td>\n",
       "      <td>0.010501</td>\n",
       "      <td>0.011105</td>\n",
       "      <td>0.009496</td>\n",
       "      <td>DOGE</td>\n",
       "      <td>['Gold vs Bitcoin: complete comparison at the ...</td>\n",
       "    </tr>\n",
       "  </tbody>\n",
       "</table>\n",
       "</div>"
      ],
      "text/plain": [
       "   Unnamed: 0   begins_at  open_price  close_price  high_price  low_price  \\\n",
       "0        1029  2021-01-02    0.005797     0.010714    0.014833   0.005468   \n",
       "1        1030  2021-01-03    0.010714     0.009979    0.014000   0.009017   \n",
       "2        1031  2021-01-04    0.009938     0.009798    0.011767   0.007359   \n",
       "3        1032  2021-01-05    0.009798     0.010004    0.010439   0.008798   \n",
       "4        1033  2021-01-06    0.010004     0.010501    0.011105   0.009496   \n",
       "\n",
       "  symbol                                           articles  \n",
       "0   DOGE  ['Dogecoin Spikes 120%: If History Repeats, Th...  \n",
       "1   DOGE  ['Adult Film Star Angela White Tweets About Do...  \n",
       "2   DOGE  ['Dogecoin (DOGE) mit Kurssprung von über 100 ...  \n",
       "3   DOGE  ['What to Expect from DevOps in 2021 and Beyon...  \n",
       "4   DOGE  ['Gold vs Bitcoin: complete comparison at the ...  "
      ]
     },
     "execution_count": 3,
     "metadata": {},
     "output_type": "execute_result"
    }
   ],
   "source": [
    "# Read in doge coin news and market data\n",
    "doge_df = pd.read_csv(\"../../CryptoNews/doge.csv\")\n",
    "doge_df.head()"
   ]
  },
  {
   "cell_type": "code",
   "execution_count": 4,
   "metadata": {},
   "outputs": [
    {
     "data": {
      "text/plain": [
       "'[\\'Dogecoin Spikes 120%: If History Repeats, This Might be Very Positive for \\\\nAll Altcoins\\', \"Dogecoin Sees 125% Increase In Trading On Saturday Following Adult Film \\\\nStar\\'s Tweet\", \\'Dogecoin (DOGE) surges over 100% as Bitcoin bull run takes BTC to $33,000\\', \\'Ripple CTO Reveals His Crypto Holdings, XRP and Bitcoin Are His Biggest \\\\nPositions\\', \\'Here’s Why Analysts Think Ethereum Will Soon Move Toward $800\\', \\'Anche nel 2021 sarà importante monitorare i 15 indirizzi Bitcoin più ricchi\\', \\'Ripples XRP: Jetzt spricht der Gründer bereits vom „nächsten ...\\', \\'10 เหรียญ Cryptocurrency ที่น่าจับตามองอย่างยิ่งตลอดปี 2021 นี้ ...\\']'"
      ]
     },
     "execution_count": 4,
     "metadata": {},
     "output_type": "execute_result"
    }
   ],
   "source": [
    "# What do the articles look like? OMG they are not all in English\n",
    "doge_df[\"articles\"][0]"
   ]
  },
  {
   "cell_type": "code",
   "execution_count": 7,
   "metadata": {},
   "outputs": [
    {
     "data": {
      "text/plain": [
       "'2023-03-09'"
      ]
     },
     "execution_count": 7,
     "metadata": {},
     "output_type": "execute_result"
    }
   ],
   "source": [
    "# Last day in df\n",
    "doge_df[\"begins_at\"][len(doge_df)-1]"
   ]
  },
  {
   "cell_type": "code",
   "execution_count": null,
   "metadata": {},
   "outputs": [],
   "source": []
  }
 ],
 "metadata": {
  "kernelspec": {
   "display_name": "Python 3.9.12 ('base')",
   "language": "python",
   "name": "python3"
  },
  "language_info": {
   "codemirror_mode": {
    "name": "ipython",
    "version": 3
   },
   "file_extension": ".py",
   "mimetype": "text/x-python",
   "name": "python",
   "nbconvert_exporter": "python",
   "pygments_lexer": "ipython3",
   "version": "3.9.12"
  },
  "orig_nbformat": 4,
  "vscode": {
   "interpreter": {
    "hash": "8ca3c2b93fec3a68989a8a35ad4ad37f554c7436255229aa8dbd97e50d16e03f"
   }
  }
 },
 "nbformat": 4,
 "nbformat_minor": 2
}
