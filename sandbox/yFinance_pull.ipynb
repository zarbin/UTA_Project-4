{
 "cells": [
  {
   "cell_type": "code",
   "execution_count": 4,
   "metadata": {},
   "outputs": [],
   "source": [
    "#import dependencies\n",
    "import yfinance as yf\n",
    "import pandas as pd"
   ]
  },
  {
   "cell_type": "code",
   "execution_count": 5,
   "metadata": {},
   "outputs": [
    {
     "name": "stdout",
     "output_type": "stream",
     "text": [
      "[*********************100%***********************]  13 of 13 completed\n",
      "              Adj Close                                                 \\\n",
      "                BTC-USD       CL=F COIN     ES=F     ETH-USD  EURUSD=X   \n",
      "Date                                                                     \n",
      "2019-12-01  7424.292480        NaN  NaN      NaN  151.185730       NaN   \n",
      "2019-12-02  7321.988281  55.959999  NaN  3114.25  149.059158  1.101904   \n",
      "2019-12-03  7320.145508  56.099998  NaN  3091.00  147.956421  1.107911   \n",
      "2019-12-04  7252.034668  58.430000  NaN  3111.00  146.747742  1.108525   \n",
      "2019-12-05  7448.307617  58.430000  NaN  3117.75  149.248993  1.108303   \n",
      "\n",
      "                                                       ...     Volume  \\\n",
      "                   GLD     NQ=F        SLV        XLF  ...       ES=F   \n",
      "Date                                                   ...              \n",
      "2019-12-01         NaN      NaN        NaN        NaN  ...        NaN   \n",
      "2019-12-02  137.789993  8316.00  15.800000  27.826891  ...  1927030.0   \n",
      "2019-12-03  139.110001  8251.25  16.049999  27.436798  ...  2146620.0   \n",
      "2019-12-04  138.919998  8295.25  15.760000  27.696857  ...  1485940.0   \n",
      "2019-12-05  139.000000  8309.25  15.850000  27.826891  ...  1318780.0   \n",
      "\n",
      "                                                                    \\\n",
      "                 ETH-USD EURUSD=X        GLD      NQ=F         SLV   \n",
      "Date                                                                 \n",
      "2019-12-01  7.102780e+09      NaN        NaN       NaN         NaN   \n",
      "2019-12-02  6.670561e+09      0.0  8274700.0  559474.0   9176400.0   \n",
      "2019-12-03  6.204380e+09      0.0  8481700.0  614317.0  13075000.0   \n",
      "2019-12-04  7.865937e+09      0.0  6322300.0  413647.0  15133700.0   \n",
      "2019-12-05  6.745910e+09      0.0  5671500.0  370987.0   9086900.0   \n",
      "\n",
      "                                          \n",
      "                   XLF ^CMC200 ^TNX ^VIX  \n",
      "Date                                      \n",
      "2019-12-01         NaN     NaN  NaN  NaN  \n",
      "2019-12-02  52427800.0     0.0  0.0  0.0  \n",
      "2019-12-03  66912000.0     0.0  0.0  0.0  \n",
      "2019-12-04  41793900.0     0.0  0.0  0.0  \n",
      "2019-12-05  44933500.0     0.0  0.0  0.0  \n",
      "\n",
      "[5 rows x 78 columns]\n"
     ]
    }
   ],
   "source": [
    "## Ticker List and Start date\n",
    "tickers = [\"BTC-USD\", \"ETH-USD\", \"^CMC200\", \"COIN\", \"GLD\", \"SLV\", \"^VIX\", \"CL=F\", \"NQ=F\", \"ES=F\", \"XLF\", \"EURUSD=X\", \"^TNX\"]\n",
    "start_date = \"2019-12-01\"\n",
    "\n",
    "# Fetch historical data\n",
    "market_data = yf.download(tickers, start=start_date)\n",
    "\n",
    "# Dataframe preview\n",
    "print(market_data.head())"
   ]
  },
  {
   "cell_type": "code",
   "execution_count": 6,
   "metadata": {},
   "outputs": [
    {
     "data": {
      "text/plain": [
       "(1224, 78)"
      ]
     },
     "execution_count": 6,
     "metadata": {},
     "output_type": "execute_result"
    }
   ],
   "source": [
    "market_data.shape"
   ]
  },
  {
   "cell_type": "code",
   "execution_count": 7,
   "metadata": {},
   "outputs": [],
   "source": [
    "market_data.to_csv(\"market_data.csv\")"
   ]
  }
 ],
 "metadata": {
  "kernelspec": {
   "display_name": "base",
   "language": "python",
   "name": "python3"
  },
  "language_info": {
   "codemirror_mode": {
    "name": "ipython",
    "version": 3
   },
   "file_extension": ".py",
   "mimetype": "text/x-python",
   "name": "python",
   "nbconvert_exporter": "python",
   "pygments_lexer": "ipython3",
   "version": "3.8.5"
  },
  "orig_nbformat": 4
 },
 "nbformat": 4,
 "nbformat_minor": 2
}
