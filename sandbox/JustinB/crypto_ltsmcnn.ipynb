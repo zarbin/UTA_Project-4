{
 "cells": [
  {
   "cell_type": "code",
   "execution_count": 3,
   "metadata": {},
   "outputs": [
    {
     "name": "stdout",
     "output_type": "stream",
     "text": [
      "[*********************100%***********************]  1 of 1 completed\n",
      "                   Open         High          Low        Close    Adj Close  \\\n",
      "Date                                                                          \n",
      "2020-01-01  7194.892090  7254.330566  7174.944336  7200.174316  7200.174316   \n",
      "2020-01-02  7202.551270  7212.155273  6935.270020  6985.470215  6985.470215   \n",
      "2020-01-03  6984.428711  7413.715332  6914.996094  7344.884277  7344.884277   \n",
      "2020-01-04  7345.375488  7427.385742  7309.514160  7410.656738  7410.656738   \n",
      "2020-01-05  7410.451660  7544.497070  7400.535645  7411.317383  7411.317383   \n",
      "\n",
      "                 Volume  \n",
      "Date                     \n",
      "2020-01-01  18565664997  \n",
      "2020-01-02  20802083465  \n",
      "2020-01-03  28111481032  \n",
      "2020-01-04  18444271275  \n",
      "2020-01-05  19725074095  \n"
     ]
    }
   ],
   "source": [
    "import yfinance as yf\n",
    "import pandas as pd\n",
    "\n",
    "# Define the Bitcoin ticker symbol and the date range\n",
    "ticker = \"BTC-USD\"\n",
    "start_date = \"2020-01-01\"\n",
    "\n",
    "# Fetch historical data\n",
    "bitcoin_data = yf.download(ticker, start=start_date)\n",
    "\n",
    "# Print the first few rows of the data\n",
    "print(bitcoin_data.head())\n",
    "\n",
    "# Save the data to a CSV file\n",
    "bitcoin_data.to_csv(\"bitcoin_data.csv\")"
   ]
  },
  {
   "cell_type": "code",
   "execution_count": 4,
   "metadata": {},
   "outputs": [
    {
     "data": {
      "text/plain": [
       "pandas.core.frame.DataFrame"
      ]
     },
     "execution_count": 4,
     "metadata": {},
     "output_type": "execute_result"
    }
   ],
   "source": [
    "type(bitcoin_data)"
   ]
  },
  {
   "cell_type": "code",
   "execution_count": 8,
   "metadata": {},
   "outputs": [
    {
     "name": "stdout",
     "output_type": "stream",
     "text": [
      "[*********************100%***********************]  1 of 1 completed\n"
     ]
    }
   ],
   "source": [
    "import yfinance as yf\n",
    "import pandas as pd\n",
    "import sqlite3\n",
    "from sqlite3 import Error\n",
    "\n",
    "# Define the Bitcoin ticker symbol and the date range\n",
    "ticker = \"BTC-USD\"\n",
    "start_date = \"2020-01-01\"\n",
    "\n",
    "# Fetch historical data\n",
    "bitcoin_data = yf.download(ticker, start=start_date)\n",
    "\n",
    "# Function to create a connection to the SQLite database\n",
    "def create_connection(db_file):\n",
    "    conn = None\n",
    "    try:\n",
    "        conn = sqlite3.connect(db_file)\n",
    "    except Error as e:\n",
    "        print(e)\n",
    "    return conn\n",
    "\n",
    "# Function to create a table in the SQLite database\n",
    "def create_table(conn, create_table_sql):\n",
    "    try:\n",
    "        c = conn.cursor()\n",
    "        c.execute(create_table_sql)\n",
    "    except Error as e:\n",
    "        print(e)\n",
    "\n",
    "# Create a connection to the SQLite database\n",
    "database = \"bitcoin_data.db\"\n",
    "conn = create_connection(database)\n",
    "\n",
    "# Create the Bitcoin price table if it doesn't exist\n",
    "if conn is not None:\n",
    "    sql_create_bitcoin_table = \"\"\"CREATE TABLE IF NOT EXISTS bitcoin_price (\n",
    "                                Date DATE PRIMARY KEY,\n",
    "                                Open REAL,\n",
    "                                High REAL,\n",
    "                                Low REAL,\n",
    "                                Close REAL,\n",
    "                                Adj_Close REAL,\n",
    "                                Volume INTEGER\n",
    "                                );\"\"\"\n",
    "    create_table(conn, sql_create_bitcoin_table)\n",
    "else:\n",
    "    print(\"Error! Cannot create the database connection.\")\n",
    "\n",
    "# Insert the historical data into the SQLite database\n",
    "bitcoin_data.to_sql(\"bitcoin_price\", conn, if_exists=\"replace\", index=True)\n",
    "\n",
    "# Commit the changes and close the connection\n",
    "conn.commit()\n",
    "conn.close()\n"
   ]
  }
 ],
 "metadata": {
  "kernelspec": {
   "display_name": "PythonData2",
   "language": "python",
   "name": "python3"
  },
  "language_info": {
   "codemirror_mode": {
    "name": "ipython",
    "version": 3
   },
   "file_extension": ".py",
   "mimetype": "text/x-python",
   "name": "python",
   "nbconvert_exporter": "python",
   "pygments_lexer": "ipython3",
   "version": "3.7.15 (default, Nov 24 2022, 18:44:54) [MSC v.1916 64 bit (AMD64)]"
  },
  "orig_nbformat": 4,
  "vscode": {
   "interpreter": {
    "hash": "6bf4a4e7f6e2b74fd74c37a981ed6c6d83ce25f20bb6a721d0924f01fdba488e"
   }
  }
 },
 "nbformat": 4,
 "nbformat_minor": 2
}
