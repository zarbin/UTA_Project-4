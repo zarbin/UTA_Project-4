{
 "cells": [
  {
   "cell_type": "code",
   "execution_count": 1,
   "metadata": {},
   "outputs": [],
   "source": [
    "import requests\n",
    "import pandas as pd"
   ]
  },
  {
   "cell_type": "code",
   "execution_count": 23,
   "metadata": {},
   "outputs": [],
   "source": [
    "# Set the CoinGecko API URL for historical data\n",
    "url = 'https://api.coingecko.com/api/v3/coins/{coin_id}/market_chart'\n",
    "\n",
    "# Define a function to fetch historical data for a given cryptocurrency\n",
    "def fetch_crypto_data(coin_id, days, interval='daily'):\n",
    "    parameters = {\n",
    "        'vs_currency': 'usd',\n",
    "        'days': days,\n",
    "        'interval': interval\n",
    "    }\n",
    "    \n",
    "    response = requests.get(url.format(coin_id=coin_id), params=parameters)\n",
    "    data = response.json()\n",
    "    \n",
    "    if response.status_code == 200:\n",
    "        df_prices = pd.DataFrame(data['prices'], columns=['timestamp', 'price'])\n",
    "        df_market_caps = pd.DataFrame(data['market_caps'], columns=['timestamp', 'market_cap'])\n",
    "        df_total_volumes = pd.DataFrame(data['total_volumes'], columns=['timestamp', 'total_volume'])\n",
    "        \n",
    "        df = pd.merge(df_prices, df_market_caps, on='timestamp', how='outer')\n",
    "        df = pd.merge(df, df_total_volumes, on='timestamp', how='outer')\n",
    "        \n",
    "        df['timestamp'] = pd.to_datetime(df['timestamp'], unit='ms')\n",
    "        df.set_index('timestamp', inplace=True)\n",
    "        \n",
    "        return df\n",
    "    else:\n",
    "        print(f\"Error: {response.status_code}\")\n",
    "        return None\n",
    "\n"
   ]
  },
  {
   "cell_type": "code",
   "execution_count": null,
   "metadata": {},
   "outputs": [],
   "source": [
    "# Fetch historical data for Bitcoin (BTC) and Dogecoin (DOGE)\n",
    "days = '1199' # 1/1/2020 to 04/13/2023\n",
    "\n",
    "btc_data = fetch_crypto_data(coin_id='bitcoin', days)\n",
    "doge_data = fetch_crypto_data(coin_id='dogecoin', days)"
   ]
  }
 ],
 "metadata": {
  "kernelspec": {
   "display_name": "base",
   "language": "python",
   "name": "python3"
  },
  "language_info": {
   "codemirror_mode": {
    "name": "ipython",
    "version": 3
   },
   "file_extension": ".py",
   "mimetype": "text/x-python",
   "name": "python",
   "nbconvert_exporter": "python",
   "pygments_lexer": "ipython3",
   "version": "3.8.5"
  },
  "orig_nbformat": 4
 },
 "nbformat": 4,
 "nbformat_minor": 2
}
